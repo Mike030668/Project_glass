{
 "cells": [
  {
   "cell_type": "markdown",
   "metadata": {},
   "source": [
    "# make data"
   ]
  },
  {
   "cell_type": "code",
   "execution_count": 1,
   "metadata": {},
   "outputs": [
    {
     "name": "stderr",
     "output_type": "stream",
     "text": [
      "g:\\Другие компьютеры\\My_comp\\Документы\\Note_books\\Тестовые работы\\Alex_Glass\\Project_glass\\prepare_data\\predprice_traindata.py:27: SettingWithCopyWarning: \n",
      "A value is trying to be set on a copy of a slice from a DataFrame.\n",
      "Try using .loc[row_indexer,col_indexer] = value instead\n",
      "\n",
      "See the caveats in the documentation: https://pandas.pydata.org/pandas-docs/stable/user_guide/indexing.html#returning-a-view-versus-a-copy\n",
      "  dataset[\"Volume\"] = dataset[\"Volume\"].apply(lambda x: np.log(x))\n"
     ]
    }
   ],
   "source": [
    "!python prepare_data\\predprice_traindata.py"
   ]
  },
  {
   "cell_type": "code",
   "execution_count": 2,
   "metadata": {},
   "outputs": [],
   "source": [
    "import numpy as np # библиотека нампи\n",
    "x_train_sc = np.load(\"./predprice/x_train_sc.npy\")\n",
    "x_val_sc = np.load(\"./predprice/x_val_sc.npy\")\n",
    "y_train_sc = np.load(\"./predprice/y_train_sc.npy\")\n",
    "y_val_sc = np.load(\"./predprice/y_val_sc.npy\")"
   ]
  },
  {
   "cell_type": "code",
   "execution_count": 4,
   "metadata": {},
   "outputs": [
    {
     "data": {
      "text/plain": [
       "array([[0.51469863, 0.51169671, 0.51224254, 0.49078357, 0.49739227],\n",
       "       [0.51169671, 0.51224254, 0.49078357, 0.49739227, 0.50088716],\n",
       "       [0.51224254, 0.49078357, 0.49739227, 0.50088716, 0.51153296],\n",
       "       ...,\n",
       "       [0.50612867, 0.51720908, 0.54115625, 0.54835279, 0.50623786],\n",
       "       [0.51720908, 0.54115625, 0.54835279, 0.50623786, 0.50367183],\n",
       "       [0.54115625, 0.54835279, 0.50623786, 0.50367183, 0.50427241]])"
      ]
     },
     "execution_count": 4,
     "metadata": {},
     "output_type": "execute_result"
    }
   ],
   "source": [
    "y_val_sc \n"
   ]
  }
 ],
 "metadata": {
  "kernelspec": {
   "display_name": "Python 3",
   "language": "python",
   "name": "python3"
  },
  "language_info": {
   "codemirror_mode": {
    "name": "ipython",
    "version": 3
   },
   "file_extension": ".py",
   "mimetype": "text/x-python",
   "name": "python",
   "nbconvert_exporter": "python",
   "pygments_lexer": "ipython3",
   "version": "3.9.16"
  }
 },
 "nbformat": 4,
 "nbformat_minor": 2
}
